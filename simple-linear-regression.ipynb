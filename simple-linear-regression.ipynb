{
 "cells": [
  {
   "cell_type": "markdown",
   "metadata": {},
   "source": [
    "# Simple Linear Regression\n",
    "___\n",
    "\n",
    "In this notebook I'm showing the implementation of Simple Linear Regression (or Linear Regression with one variable/feature)."
   ]
  },
  {
   "cell_type": "markdown",
   "metadata": {},
   "source": [
    "## Steps to get it done\n",
    "In order:\n",
    "- import necessary libraries;\n",
    "- read the dataset and create a NumPy array from it;\n",
    "- separate X (variable) and Y (label) and initialize m;\n",
    "- add bias to the X variable;\n",
    "- initialize theta as [0, 0];\n",
    "- implement Cost Function;\n",
    "- initialize number of iterations as 1500;\n",
    "- initialize learning rate as 0.01;\n",
    "- implement Gradient Descent;\n",
    "- train the model using X, y and theta;\n",
    "- calculate some predictions using the proper theta;\n",
    "- plot the training examples and fit the regression line;\n",
    "- (optional) generate a plot of the Cost Function\n"
   ]
  },
  {
   "cell_type": "markdown",
   "metadata": {},
   "source": [
    "### Needed Libraries\n",
    "\n",
    "The implementation can be done without using pandas, but for the sake of readability, I'm using it."
   ]
  },
  {
   "cell_type": "code",
   "execution_count": 1,
   "metadata": {},
   "outputs": [],
   "source": [
    "# Importing the necessary libraries\n",
    "\n",
    "import pandas as pd\n",
    "import matplotlib.pyplot as plt\n",
    "import numpy as np"
   ]
  },
  {
   "cell_type": "markdown",
   "metadata": {},
   "source": [
    "### Reading the dataset and converting to NumPy array"
   ]
  },
  {
   "cell_type": "code",
   "execution_count": 2,
   "metadata": {},
   "outputs": [],
   "source": [
    "# Creating a NumPy array from a given dataset\n",
    "\n",
    "dataset = pd.read_csv('data.txt', sep=\",\", header=None, names=[\"population\", \"profit\"])\n",
    "dataset = dataset.to_numpy()"
   ]
  },
  {
   "cell_type": "markdown",
   "metadata": {},
   "source": [
    "### Separating feature from label"
   ]
  },
  {
   "cell_type": "code",
   "execution_count": 3,
   "metadata": {},
   "outputs": [],
   "source": [
    "# Separating X and y\n",
    "\n",
    "X = dataset[:, [0]]\n",
    "y = dataset[:, [1]]\n",
    "\n",
    "# Initializing m\n",
    "\n",
    "m = len(y)"
   ]
  },
  {
   "cell_type": "markdown",
   "metadata": {},
   "source": [
    "### Concatenating an array of one's to X"
   ]
  },
  {
   "cell_type": "code",
   "execution_count": 4,
   "metadata": {},
   "outputs": [],
   "source": [
    "# Adding bias unit as a column in X\n",
    "\n",
    "X = np.concatenate((np.ones((m, 1), dtype=np.int8), X), axis=1)"
   ]
  },
  {
   "cell_type": "markdown",
   "metadata": {},
   "source": [
    "### Cost Function"
   ]
  },
  {
   "cell_type": "code",
   "execution_count": 5,
   "metadata": {},
   "outputs": [],
   "source": [
    "# Initializing theta\n",
    "\n",
    "theta = np.zeros((2, 1))"
   ]
  },
  {
   "cell_type": "code",
   "execution_count": 6,
   "metadata": {},
   "outputs": [],
   "source": [
    "# Cost Function implementation\n",
    "\n",
    "def computeCost(X, y, theta):\n",
    "    J = 0\n",
    "    hypothesis_func = np.dot(X, theta)\n",
    "    sqr_errors = np.power((hypothesis_func - y), 2)\n",
    "    J = (1 /(2 * m)) * np.sum(sqr_errors)\n",
    "    return J"
   ]
  },
  {
   "cell_type": "markdown",
   "metadata": {},
   "source": [
    "### Gradient Descent"
   ]
  },
  {
   "cell_type": "code",
   "execution_count": 7,
   "metadata": {},
   "outputs": [],
   "source": [
    "# Initializing iterations and learning rate\n",
    "\n",
    "iterations = 1500;\n",
    "learning_rate = 0.01;"
   ]
  },
  {
   "cell_type": "code",
   "execution_count": 8,
   "metadata": {},
   "outputs": [],
   "source": [
    "# Gradient Descent implementation\n",
    "\n",
    "def gradientDescent(X, y, theta, learning_rate, iterations):\n",
    "    cost_hist = np.zeros(iterations)\n",
    "    theta_hist = np.zeros((iterations, 2))\n",
    "    \n",
    "    for iteration in range(iterations):\n",
    "        prediction = np.dot(X, theta)\n",
    "        theta = theta - (1 / m) * learning_rate * (X.T.dot((prediction - y)))\n",
    "        theta_hist[iteration,:] = theta.T\n",
    "        cost_hist[iteration] = computeCost(X, y, theta)\n",
    "        \n",
    "    return theta, cost_hist, theta_hist"
   ]
  },
  {
   "cell_type": "markdown",
   "metadata": {},
   "source": [
    "### Training the model"
   ]
  },
  {
   "cell_type": "code",
   "execution_count": 9,
   "metadata": {},
   "outputs": [],
   "source": [
    "# Getting the values of theta, cost function values and theta values over iterations\n",
    "\n",
    "theta, cost_values, theta_values = gradientDescent(X, y, theta, learning_rate, iterations)"
   ]
  },
  {
   "cell_type": "markdown",
   "metadata": {},
   "source": [
    "### Plotting the training examples and linear regression plot line"
   ]
  },
  {
   "cell_type": "code",
   "execution_count": 10,
   "metadata": {},
   "outputs": [],
   "source": [
    "# Defining the style of the plots\n",
    "\n",
    "plt.style.use('seaborn-whitegrid')"
   ]
  },
  {
   "cell_type": "code",
   "execution_count": 11,
   "metadata": {},
   "outputs": [
    {
     "data": {
      "image/png": "[encoded data removed]",
      "text/plain": [
       "<Figure size 720x432 with 1 Axes>"
      ]
     },
     "metadata": {},
     "output_type": "display_data"
    }
   ],
   "source": [
    "# Plotting the dataset and linear regression line\n",
    "\n",
    "fig, ax = plt.subplots(figsize=(10, 6))\n",
    "ax.scatter(X[:,[1]], y, cmap='winter')\n",
    "ax.plot(X[:,1], np.dot(X, theta), '-', c=\"red\")\n",
    "plt.show()"
   ]
  },
  {
   "cell_type": "code",
   "execution_count": 12,
   "metadata": {},
   "outputs": [
    {
     "data": {
      "image/png": "[encoded data removed]",
      "text/plain": [
       "<Figure size 1008x648 with 1 Axes>"
      ]
     },
     "metadata": {},
     "output_type": "display_data"
    }
   ],
   "source": [
    "# Plotting cost function values over a 1000 iterations\n",
    "\n",
    "fig, ax = plt.subplots(figsize=(14, 9))\n",
    "ax.plot(range(1000), cost_values[:1000], linewidth=3)\n",
    "plt.show()"
   ]
  }
 ],
 "metadata": {
  "kernelspec": {
   "display_name": "Python 3",
   "language": "python",
   "name": "python3"
  },
  "language_info": {
   "codemirror_mode": {
    "name": "ipython",
    "version": 3
   },
   "file_extension": ".py",
   "mimetype": "text/x-python",
   "name": "python",
   "nbconvert_exporter": "python",
   "pygments_lexer": "ipython3",
   "version": "3.8.3"
  }
 },
 "nbformat": 4,
 "nbformat_minor": 4
}
